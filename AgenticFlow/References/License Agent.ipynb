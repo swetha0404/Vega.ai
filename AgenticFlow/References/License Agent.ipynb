{
 "cells": [
  {
   "cell_type": "code",
   "execution_count": null,
   "id": "d5c35f24-1f42-4137-af6e-b5125c37d6d8",
   "metadata": {},
   "outputs": [
    {
     "name": "stdout",
     "output_type": "stream",
     "text": [
      "CrewAI & OpenAI key configured ✅\n"
     ]
    }
   ],
   "source": [
    "# Cell 1: Imports and setup\n",
    "import pandas as pd\n",
    "from datetime import datetime, timedelta\n",
    "from crewai import Agent, Task, Crew\n",
    "import os\n",
    "\n",
    "\n",
    "# Set your OpenAI API key (replace with your key)\n",
    "os.environ[\"OPENAI_API_KEY\"] = \"sk-your-openai-api-key-here\"\n",
    "\n",
    "# Optional: print confirmation\n",
    "print(\"CrewAI & OpenAI key configured ✅\")\n"
   ]
  },
  {
   "cell_type": "code",
   "execution_count": 7,
   "id": "8f1382b6-7435-441d-87a7-d9015efcbd72",
   "metadata": {},
   "outputs": [
    {
     "name": "stdout",
     "output_type": "stream",
     "text": [
      "Total licenses loaded: 10\n"
     ]
    },
    {
     "data": {
      "text/html": [
       "<div>\n",
       "<style scoped>\n",
       "    .dataframe tbody tr th:only-of-type {\n",
       "        vertical-align: middle;\n",
       "    }\n",
       "\n",
       "    .dataframe tbody tr th {\n",
       "        vertical-align: top;\n",
       "    }\n",
       "\n",
       "    .dataframe thead th {\n",
       "        text-align: right;\n",
       "    }\n",
       "</style>\n",
       "<table border=\"1\" class=\"dataframe\">\n",
       "  <thead>\n",
       "    <tr style=\"text-align: right;\">\n",
       "      <th></th>\n",
       "      <th>client_name</th>\n",
       "      <th>license_key</th>\n",
       "      <th>expiry_date</th>\n",
       "      <th>client_type</th>\n",
       "    </tr>\n",
       "  </thead>\n",
       "  <tbody>\n",
       "    <tr>\n",
       "      <th>0</th>\n",
       "      <td>Acme Corp</td>\n",
       "      <td>ABC123</td>\n",
       "      <td>2025-11-10</td>\n",
       "      <td>enterprise</td>\n",
       "    </tr>\n",
       "    <tr>\n",
       "      <th>1</th>\n",
       "      <td>Beta Ltd</td>\n",
       "      <td>XYZ789</td>\n",
       "      <td>2025-09-15</td>\n",
       "      <td>smb</td>\n",
       "    </tr>\n",
       "    <tr>\n",
       "      <th>2</th>\n",
       "      <td>Gamma Inc</td>\n",
       "      <td>LMN456</td>\n",
       "      <td>2025-12-01</td>\n",
       "      <td>enterprise</td>\n",
       "    </tr>\n",
       "    <tr>\n",
       "      <th>3</th>\n",
       "      <td>Delta Solutions</td>\n",
       "      <td>PQR321</td>\n",
       "      <td>2025-08-30</td>\n",
       "      <td>smb</td>\n",
       "    </tr>\n",
       "    <tr>\n",
       "      <th>4</th>\n",
       "      <td>Epsilon LLC</td>\n",
       "      <td>STU654</td>\n",
       "      <td>2025-10-05</td>\n",
       "      <td>enterprise</td>\n",
       "    </tr>\n",
       "  </tbody>\n",
       "</table>\n",
       "</div>"
      ],
      "text/plain": [
       "       client_name license_key expiry_date client_type\n",
       "0        Acme Corp      ABC123  2025-11-10  enterprise\n",
       "1         Beta Ltd      XYZ789  2025-09-15         smb\n",
       "2        Gamma Inc      LMN456  2025-12-01  enterprise\n",
       "3  Delta Solutions      PQR321  2025-08-30         smb\n",
       "4      Epsilon LLC      STU654  2025-10-05  enterprise"
      ]
     },
     "execution_count": 7,
     "metadata": {},
     "output_type": "execute_result"
    }
   ],
   "source": [
    "# Cell 2: Load License Data\n",
    "# Replace 'licenses.csv' with your file path\n",
    "df = pd.read_csv(\"licenses.csv\")\n",
    "df['expiry_date'] = pd.to_datetime(df['expiry_date'])\n",
    "\n",
    "print(f\"Total licenses loaded: {len(df)}\")\n",
    "df.head()\n"
   ]
  },
  {
   "cell_type": "code",
   "execution_count": 8,
   "id": "d313b74b-ff10-4b14-a5fc-e819907bde10",
   "metadata": {},
   "outputs": [
    {
     "name": "stdout",
     "output_type": "stream",
     "text": [
      "Licenses expiring in next 90 days: 7\n"
     ]
    },
    {
     "data": {
      "text/plain": [
       "[{'client_name': 'Acme Corp',\n",
       "  'license_key': 'ABC123',\n",
       "  'expiry_date': Timestamp('2025-11-10 00:00:00'),\n",
       "  'client_type': 'enterprise'},\n",
       " {'client_name': 'Beta Ltd',\n",
       "  'license_key': 'XYZ789',\n",
       "  'expiry_date': Timestamp('2025-09-15 00:00:00'),\n",
       "  'client_type': 'smb'},\n",
       " {'client_name': 'Delta Solutions',\n",
       "  'license_key': 'PQR321',\n",
       "  'expiry_date': Timestamp('2025-08-30 00:00:00'),\n",
       "  'client_type': 'smb'},\n",
       " {'client_name': 'Epsilon LLC',\n",
       "  'license_key': 'STU654',\n",
       "  'expiry_date': Timestamp('2025-10-05 00:00:00'),\n",
       "  'client_type': 'enterprise'},\n",
       " {'client_name': 'Zeta Tech',\n",
       "  'license_key': 'VWX987',\n",
       "  'expiry_date': Timestamp('2025-09-20 00:00:00'),\n",
       "  'client_type': 'smb'},\n",
       " {'client_name': 'Kappa Industries',\n",
       "  'license_key': 'EFG333',\n",
       "  'expiry_date': Timestamp('2025-08-25 00:00:00'),\n",
       "  'client_type': 'enterprise'},\n",
       " {'client_name': 'Lambda Labs',\n",
       "  'license_key': 'HIJ444',\n",
       "  'expiry_date': Timestamp('2025-09-10 00:00:00'),\n",
       "  'client_type': 'smb'}]"
      ]
     },
     "execution_count": 8,
     "metadata": {},
     "output_type": "execute_result"
    }
   ],
   "source": [
    "# Cell 3: Define function to get expiring licenses\n",
    "def get_expiring_licenses(df, days=90):\n",
    "    cutoff = datetime.today() + timedelta(days=days)\n",
    "    expiring = df[df['expiry_date'] <= cutoff]\n",
    "    return expiring.to_dict(orient=\"records\")\n",
    "\n",
    "expiring_clients = get_expiring_licenses(df)\n",
    "print(f\"Licenses expiring in next 90 days: {len(expiring_clients)}\")\n",
    "expiring_clients\n"
   ]
  },
  {
   "cell_type": "code",
   "execution_count": 9,
   "id": "2f919f69-d08c-4b30-a4cf-e487260dfda2",
   "metadata": {},
   "outputs": [],
   "source": [
    "# Cell 4: Setup CrewAI Agents\n",
    "data_agent = Agent(\n",
    "    role=\"Data Agent\",\n",
    "    goal=\"Fetch clients whose licenses expire within 90 days\",\n",
    "    backstory=\"Specialist in reading and parsing license data\",\n",
    ")\n",
    "\n",
    "analysis_agent = Agent(\n",
    "    role=\"Analysis Agent\",\n",
    "    goal=\"Summarize expiring clients for the support team\",\n",
    "    backstory=\"Helps prioritize which clients need attention\"\n",
    ")\n",
    "\n",
    "# Define Task\n",
    "task = Task(\n",
    "    description=\"Analyze expiring clients and provide a summary table\",\n",
    "    expected_output=\"A list of client names, license keys, expiry dates, and client type\",\n",
    "    agent=analysis_agent\n",
    ")\n"
   ]
  },
  {
   "cell_type": "code",
   "execution_count": 10,
   "id": "b868e502-5045-4fff-af0b-a3d1196a00dd",
   "metadata": {},
   "outputs": [
    {
     "name": "stdout",
     "output_type": "stream",
     "text": [
      "CrewAI workflow executed ✅\n"
     ]
    },
    {
     "data": {
      "text/plain": [
       "{'expiring_clients': [{'client_name': 'Acme Corp',\n",
       "   'license_key': 'ABC123',\n",
       "   'expiry_date': Timestamp('2025-11-10 00:00:00'),\n",
       "   'client_type': 'enterprise'},\n",
       "  {'client_name': 'Beta Ltd',\n",
       "   'license_key': 'XYZ789',\n",
       "   'expiry_date': Timestamp('2025-09-15 00:00:00'),\n",
       "   'client_type': 'smb'},\n",
       "  {'client_name': 'Delta Solutions',\n",
       "   'license_key': 'PQR321',\n",
       "   'expiry_date': Timestamp('2025-08-30 00:00:00'),\n",
       "   'client_type': 'smb'},\n",
       "  {'client_name': 'Epsilon LLC',\n",
       "   'license_key': 'STU654',\n",
       "   'expiry_date': Timestamp('2025-10-05 00:00:00'),\n",
       "   'client_type': 'enterprise'},\n",
       "  {'client_name': 'Zeta Tech',\n",
       "   'license_key': 'VWX987',\n",
       "   'expiry_date': Timestamp('2025-09-20 00:00:00'),\n",
       "   'client_type': 'smb'},\n",
       "  {'client_name': 'Kappa Industries',\n",
       "   'license_key': 'EFG333',\n",
       "   'expiry_date': Timestamp('2025-08-25 00:00:00'),\n",
       "   'client_type': 'enterprise'},\n",
       "  {'client_name': 'Lambda Labs',\n",
       "   'license_key': 'HIJ444',\n",
       "   'expiry_date': Timestamp('2025-09-10 00:00:00'),\n",
       "   'client_type': 'smb'}]}"
      ]
     },
     "execution_count": 10,
     "metadata": {},
     "output_type": "execute_result"
    }
   ],
   "source": [
    "# Cell 5: Create Crew and run workflow\n",
    "crew = Crew(\n",
    "    agents=[data_agent, analysis_agent],\n",
    "    tasks=[task]\n",
    ")\n",
    "\n",
    "# Optionally, you can pass your data to the agent via context or directly\n",
    "# For simplicity, we'll just display expiring_clients\n",
    "result = {\n",
    "    \"expiring_clients\": expiring_clients\n",
    "}\n",
    "\n",
    "print(\"CrewAI workflow executed ✅\")\n",
    "result\n"
   ]
  },
  {
   "cell_type": "code",
   "execution_count": 11,
   "id": "4a0ca850-aca5-4783-959e-ddccbe9ba3c6",
   "metadata": {},
   "outputs": [
    {
     "data": {
      "text/html": [
       "<div>\n",
       "<style scoped>\n",
       "    .dataframe tbody tr th:only-of-type {\n",
       "        vertical-align: middle;\n",
       "    }\n",
       "\n",
       "    .dataframe tbody tr th {\n",
       "        vertical-align: top;\n",
       "    }\n",
       "\n",
       "    .dataframe thead th {\n",
       "        text-align: right;\n",
       "    }\n",
       "</style>\n",
       "<table border=\"1\" class=\"dataframe\">\n",
       "  <thead>\n",
       "    <tr style=\"text-align: right;\">\n",
       "      <th></th>\n",
       "      <th>client_name</th>\n",
       "      <th>license_key</th>\n",
       "      <th>expiry_date</th>\n",
       "      <th>client_type</th>\n",
       "    </tr>\n",
       "  </thead>\n",
       "  <tbody>\n",
       "    <tr>\n",
       "      <th>5</th>\n",
       "      <td>Kappa Industries</td>\n",
       "      <td>EFG333</td>\n",
       "      <td>2025-08-25</td>\n",
       "      <td>enterprise</td>\n",
       "    </tr>\n",
       "    <tr>\n",
       "      <th>2</th>\n",
       "      <td>Delta Solutions</td>\n",
       "      <td>PQR321</td>\n",
       "      <td>2025-08-30</td>\n",
       "      <td>smb</td>\n",
       "    </tr>\n",
       "    <tr>\n",
       "      <th>6</th>\n",
       "      <td>Lambda Labs</td>\n",
       "      <td>HIJ444</td>\n",
       "      <td>2025-09-10</td>\n",
       "      <td>smb</td>\n",
       "    </tr>\n",
       "    <tr>\n",
       "      <th>1</th>\n",
       "      <td>Beta Ltd</td>\n",
       "      <td>XYZ789</td>\n",
       "      <td>2025-09-15</td>\n",
       "      <td>smb</td>\n",
       "    </tr>\n",
       "    <tr>\n",
       "      <th>4</th>\n",
       "      <td>Zeta Tech</td>\n",
       "      <td>VWX987</td>\n",
       "      <td>2025-09-20</td>\n",
       "      <td>smb</td>\n",
       "    </tr>\n",
       "    <tr>\n",
       "      <th>3</th>\n",
       "      <td>Epsilon LLC</td>\n",
       "      <td>STU654</td>\n",
       "      <td>2025-10-05</td>\n",
       "      <td>enterprise</td>\n",
       "    </tr>\n",
       "    <tr>\n",
       "      <th>0</th>\n",
       "      <td>Acme Corp</td>\n",
       "      <td>ABC123</td>\n",
       "      <td>2025-11-10</td>\n",
       "      <td>enterprise</td>\n",
       "    </tr>\n",
       "  </tbody>\n",
       "</table>\n",
       "</div>"
      ],
      "text/plain": [
       "        client_name license_key expiry_date client_type\n",
       "5  Kappa Industries      EFG333  2025-08-25  enterprise\n",
       "2   Delta Solutions      PQR321  2025-08-30         smb\n",
       "6       Lambda Labs      HIJ444  2025-09-10         smb\n",
       "1          Beta Ltd      XYZ789  2025-09-15         smb\n",
       "4         Zeta Tech      VWX987  2025-09-20         smb\n",
       "3       Epsilon LLC      STU654  2025-10-05  enterprise\n",
       "0         Acme Corp      ABC123  2025-11-10  enterprise"
      ]
     },
     "metadata": {},
     "output_type": "display_data"
    }
   ],
   "source": [
    "# Cell 6 (Optional): Display nicely in notebook\n",
    "import pandas as pd\n",
    "\n",
    "if expiring_clients:\n",
    "    summary_df = pd.DataFrame(expiring_clients)\n",
    "    summary_df.sort_values(\"expiry_date\", inplace=True)\n",
    "    display(summary_df)\n",
    "else:\n",
    "    print(\"No licenses expiring in the next 90 days.\")\n"
   ]
  },
  {
   "cell_type": "code",
   "execution_count": null,
   "id": "7e2c8cdd-097e-428f-824b-238af364b375",
   "metadata": {},
   "outputs": [],
   "source": []
  }
 ],
 "metadata": {
  "kernelspec": {
   "display_name": "Python (uv-crewai)",
   "language": "python",
   "name": "uv-crewai"
  },
  "language_info": {
   "codemirror_mode": {
    "name": "ipython",
    "version": 3
   },
   "file_extension": ".py",
   "mimetype": "text/x-python",
   "name": "python",
   "nbconvert_exporter": "python",
   "pygments_lexer": "ipython3",
   "version": "3.11.9"
  }
 },
 "nbformat": 4,
 "nbformat_minor": 5
}
